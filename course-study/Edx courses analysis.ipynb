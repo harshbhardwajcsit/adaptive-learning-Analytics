{
 "cells": [
  {
   "cell_type": "code",
   "execution_count": 2,
   "metadata": {},
   "outputs": [
    {
     "name": "stdout",
     "output_type": "stream",
     "text": [
      "Index(['Institution', 'Course Number', 'Launch Date', 'Course Title',\n",
      "       'Instructors', 'Course Subject', 'Year', 'Honor Code Certificates',\n",
      "       'Participants (Course Content Accessed)',\n",
      "       'Audited (> 50% Course Content Accessed)', 'Certified', '% Audited',\n",
      "       '% Certified', '% Certified of > 50% Course Content Accessed',\n",
      "       '% Played Video', '% Posted in Forum', '% Grade Higher Than Zero',\n",
      "       'Total Course Hours (Thousands)', 'Median Hours for Certification',\n",
      "       'Median Age', '% Male', '% Female', '% Bachelor's Degree or Higher'],\n",
      "      dtype='object')\n"
     ]
    }
   ],
   "source": [
    "import pandas as pd\n",
    "data = pd.read_csv('appendix.csv')\n",
    "print(data.columns)"
   ]
  },
  {
   "cell_type": "code",
   "execution_count": 3,
   "metadata": {},
   "outputs": [
    {
     "name": "stdout",
     "output_type": "stream",
     "text": [
      "(290, 23)\n"
     ]
    }
   ],
   "source": [
    "import pandas as pd\n",
    "data = pd.read_csv('appendix.csv')\n",
    "print(data.shape)"
   ]
  },
  {
   "cell_type": "code",
   "execution_count": 4,
   "metadata": {
    "scrolled": true
   },
   "outputs": [
    {
     "name": "stdout",
     "output_type": "stream",
     "text": [
      "             Year  Honor Code Certificates  \\\n",
      "count  290.000000               290.000000   \n",
      "mean     3.172414                 0.813793   \n",
      "std      0.906301                 0.389946   \n",
      "min      1.000000                 0.000000   \n",
      "25%      3.000000                 1.000000   \n",
      "50%      3.000000                 1.000000   \n",
      "75%      4.000000                 1.000000   \n",
      "max      4.000000                 1.000000   \n",
      "\n",
      "       Participants (Course Content Accessed)  \\\n",
      "count                              290.000000   \n",
      "mean                             15344.334483   \n",
      "std                              28207.578733   \n",
      "min                                322.000000   \n",
      "25%                               3815.000000   \n",
      "50%                               7901.500000   \n",
      "75%                              18038.250000   \n",
      "max                             301082.000000   \n",
      "\n",
      "       Audited (> 50% Course Content Accessed)    Certified   % Audited  \\\n",
      "count                               290.000000   290.000000  290.000000   \n",
      "mean                               2549.172414   843.810345   24.916966   \n",
      "std                                3095.159969  1105.594372   15.883538   \n",
      "min                                 187.000000     0.000000    2.630000   \n",
      "25%                                 755.250000   139.500000   14.215000   \n",
      "50%                                1517.000000   395.500000   20.425000   \n",
      "75%                                3383.000000  1201.750000   33.837500   \n",
      "max                               25637.000000  5783.000000   83.960000   \n",
      "\n",
      "       % Certified  % Certified of > 50% Course Content Accessed  \\\n",
      "count   290.000000                                    290.000000   \n",
      "mean      7.782586                                     31.445655   \n",
      "std       6.972437                                     19.751102   \n",
      "min       0.000000                                      0.000000   \n",
      "25%       2.407500                                     13.400000   \n",
      "50%       5.950000                                     31.270000   \n",
      "75%      10.687500                                     47.622500   \n",
      "max      33.980000                                     77.090000   \n",
      "\n",
      "       % Posted in Forum  % Grade Higher Than Zero  \\\n",
      "count         290.000000                290.000000   \n",
      "mean            9.347517                 21.210379   \n",
      "std             7.517141                 13.411540   \n",
      "min             0.000000                  0.000000   \n",
      "25%             3.992500                 10.590000   \n",
      "50%             7.245000                 19.605000   \n",
      "75%            14.107500                 30.902500   \n",
      "max            35.280000                 52.350000   \n",
      "\n",
      "       Total Course Hours (Thousands)  Median Hours for Certification  \\\n",
      "count                      290.000000                      290.000000   \n",
      "mean                        94.981828                       44.364552   \n",
      "std                        157.617610                       43.953709   \n",
      "min                          0.110000                        0.000000   \n",
      "25%                         12.960000                       12.242500   \n",
      "50%                         37.710000                       26.965000   \n",
      "75%                         97.225000                       64.177500   \n",
      "max                        895.010000                      251.820000   \n",
      "\n",
      "       Median Age      % Male    % Female  % Bachelor's Degree or Higher  \n",
      "count  290.000000  290.000000  290.000000                     290.000000  \n",
      "mean    29.300000   67.010690   32.989310                      72.078724  \n",
      "std      4.047897   15.843642   15.843642                      10.256434  \n",
      "min     22.000000   25.240000    6.560000                      44.950000  \n",
      "25%     26.000000   54.170000   18.367500                      64.515000  \n",
      "50%     29.000000   66.515000   33.485000                      73.055000  \n",
      "75%     31.000000   81.632500   45.830000                      79.245000  \n",
      "max     53.000000   93.440000   74.760000                      98.110000  \n"
     ]
    }
   ],
   "source": [
    "import pandas as pd\n",
    "data = pd.read_csv('appendix.csv')\n",
    "print(data.describe())"
   ]
  },
  {
   "cell_type": "code",
   "execution_count": 1,
   "metadata": {},
   "outputs": [
    {
     "data": {
      "text/plain": [
       "<seaborn.axisgrid.FacetGrid at 0x9325940>"
      ]
     },
     "execution_count": 1,
     "metadata": {},
     "output_type": "execute_result"
    },
    {
     "data": {
      "image/png": "[encoded data removed]",
      "text/plain": [
       "<matplotlib.figure.Figure at 0x9325ac8>"
      ]
     },
     "metadata": {},
     "output_type": "display_data"
    }
   ],
   "source": [
    "import pandas as pd\n",
    "import seaborn as sns\n",
    "import matplotlib\n",
    "import matplotlib.pyplot as plt  \n",
    "matplotlib.style.use('ggplot')\n",
    "%matplotlib inline\n",
    "\n",
    "\n",
    "\n",
    "\n",
    "\n",
    "#number of courses by institution\n",
    "data = pd.read_csv('appendix.csv')\n",
    "sns.factorplot('Institution',data=data,kind='count',palette=\"bright\")\n"
   ]
  },
  {
   "cell_type": "code",
   "execution_count": 5,
   "metadata": {},
   "outputs": [
    {
     "data": {
      "text/plain": [
       "<seaborn.axisgrid.FacetGrid at 0x9be12b0>"
      ]
     },
     "execution_count": 5,
     "metadata": {},
     "output_type": "execute_result"
    },
    {
     "data": {
      "image/png": "[encoded data removed]",
      "text/plain": [
       "<matplotlib.figure.Figure at 0x9be13c8>"
      ]
     },
     "metadata": {},
     "output_type": "display_data"
    }
   ],
   "source": [
    "import pandas as pd\n",
    "import seaborn as sns  \n",
    "import matplotlib\n",
    "import matplotlib.pyplot as plt  \n",
    "matplotlib.style.use('ggplot')\n",
    "%matplotlib inline\n",
    "\n",
    "\n",
    "\n",
    "#number of courses by institution\n",
    "data = pd.read_csv('appendix.csv')\n",
    "sns.factorplot('Launch Date',data=data,kind='count',hue=\"Institution\",palette=\"bright\")"
   ]
  },
  {
   "cell_type": "code",
   "execution_count": 12,
   "metadata": {},
   "outputs": [
    {
     "name": "stdout",
     "output_type": "stream",
     "text": [
      "count                                                  290\n",
      "unique                                                 202\n",
      "top       Introduction to Computer Science and Programming\n",
      "freq                                                     8\n",
      "Name: Course Title, dtype: object\n"
     ]
    }
   ],
   "source": [
    "#course description\n",
    "import pandas as pd\n",
    "import seaborn as sns  \n",
    "import matplotlib\n",
    "import matplotlib.pyplot as plt  \n",
    "matplotlib.style.use('ggplot')\n",
    "%matplotlib inline\n",
    "\n",
    "print(data['Course Title'].describe())"
   ]
  },
  {
   "cell_type": "code",
   "execution_count": 13,
   "metadata": {},
   "outputs": [
    {
     "name": "stdout",
     "output_type": "stream",
     "text": [
      "count                       289\n",
      "unique                      140\n",
      "top       Peter Bol, Bill Kirby\n",
      "freq                         20\n",
      "Name: Instructors, dtype: object\n"
     ]
    }
   ],
   "source": [
    "#Instructor description\n",
    "import pandas as pd\n",
    "import seaborn as sns  \n",
    "import matplotlib\n",
    "import matplotlib.pyplot as plt  \n",
    "matplotlib.style.use('ggplot')\n",
    "%matplotlib inline\n",
    "#number of courses by institution\n",
    "data = pd.read_csv('appendix.csv')\n",
    "print(data['Instructors'].describe())\n"
   ]
  },
  {
   "cell_type": "code",
   "execution_count": 23,
   "metadata": {},
   "outputs": [
    {
     "name": "stdout",
     "output_type": "stream",
     "text": [
      "  Institution  Participants (Course Content Accessed)\n",
      "0    HarvardX                                 2101121\n",
      "1        MITx                                 2348736\n"
     ]
    },
    {
     "data": {
      "text/plain": [
       "<seaborn.axisgrid.FacetGrid at 0xb0810b8>"
      ]
     },
     "execution_count": 23,
     "metadata": {},
     "output_type": "execute_result"
    },
    {
     "data": {
      "image/png": "[encoded data removed]",
      "text/plain": [
       "<matplotlib.figure.Figure at 0xb071c18>"
      ]
     },
     "metadata": {},
     "output_type": "display_data"
    }
   ],
   "source": [
    "#Instructor description\n",
    "import pandas as pd\n",
    "import seaborn as sns  \n",
    "import matplotlib\n",
    "import matplotlib.pyplot as plt  \n",
    "matplotlib.style.use('ggplot')\n",
    "%matplotlib inline\n",
    "#number of courses by institution\n",
    "data = pd.read_csv('appendix.csv')\n",
    "no_of_participents = data[['Institution',\"Participants (Course Content Accessed)\"]].groupby('Institution').sum()\n",
    "no_of_participents = no_of_participents.reset_index()\n",
    "\n",
    "print(no_of_participents)\n",
    "\n",
    "sns.factorplot(x='Institution',y='Participants (Course Content Accessed)',kind='bar',data=no_of_participents)"
   ]
  },
  {
   "cell_type": "code",
   "execution_count": null,
   "metadata": {
    "collapsed": true
   },
   "outputs": [],
   "source": []
  }
 ],
 "metadata": {
  "celltoolbar": "Slideshow",
  "kernelspec": {
   "display_name": "Python 3",
   "language": "python",
   "name": "python3"
  },
  "language_info": {
   "codemirror_mode": {
    "name": "ipython",
    "version": 3
   },
   "file_extension": ".py",
   "mimetype": "text/x-python",
   "name": "python",
   "nbconvert_exporter": "python",
   "pygments_lexer": "ipython3",
   "version": "3.6.2rc1"
  }
 },
 "nbformat": 4,
 "nbformat_minor": 2
}
